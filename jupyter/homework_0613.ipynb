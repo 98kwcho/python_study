{
 "cells": [
  {
   "cell_type": "code",
   "execution_count": 1,
   "id": "dcd15e38",
   "metadata": {},
   "outputs": [
    {
     "name": "stdout",
     "output_type": "stream",
     "text": [
      "     *\n",
      "    ***\n",
      "   *****\n",
      "  *******\n",
      " *********\n",
      "***********\n"
     ]
    }
   ],
   "source": [
    "height = int(input(\"높이 입력\"))\n",
    "\n",
    "for i in range(1, height + 1):\n",
    "    spaces = ' ' * (height - i)\n",
    "    stars = '*' * ( 2 * i - 1)\n",
    "    print(spaces + stars)"
   ]
  },
  {
   "cell_type": "code",
   "execution_count": 11,
   "id": "bc30fdfa",
   "metadata": {},
   "outputs": [
    {
     "name": "stdout",
     "output_type": "stream",
     "text": [
      "이진수: 1001111\n"
     ]
    }
   ],
   "source": [
    "decimal = int(input(\"십진수를 입력하세요: \"))\n",
    "\n",
    "binary = \"\"\n",
    "\n",
    "if decimal == 0:\n",
    "    binary = \"0\"\n",
    "else:\n",
    "    while decimal > 0:\n",
    "        remaind = decimal % 2  \n",
    "        binary = str(remaind) + binary  \n",
    "        decimal = decimal // 2 \n",
    "\n",
    "print(\"이진수:\", binary)"
   ]
  },
  {
   "cell_type": "code",
   "execution_count": null,
   "id": "303bb42f",
   "metadata": {},
   "outputs": [
    {
     "name": "stdout",
     "output_type": "stream",
     "text": [
      "[기린 먹이주기] 체험비: 3000원 / 현재 상태: 가능\n",
      "[물고기 먹이주기] 체험비: 1000원 / 현재 상태: 가능\n",
      "[얼룩말 먹이주기] 체험비: 2500원 / 현재 상태: 불가능\n",
      "\n",
      "[체험 프로그램 운영 시작]\n",
      "▶ 기린 먹이주기 체험:\n",
      "기린이 먹이를 받아먹어요.\n",
      "▶ 물고기 먹이주기 체험:\n",
      "물고기들이 먹이를 받아먹어요.\n",
      "▶ 얼룩말 먹이주기 체험:\n",
      "얼룩말 체험은 현재 이용할 수 없습니다.\n"
     ]
    }
   ],
   "source": [
    "\n",
    "class Experience:\n",
    "    def __init__(self, name, fee, available=True):\n",
    "        self.name = name\n",
    "        self.fee = fee\n",
    "        self.available = available\n",
    "\n",
    "    def update(self, new_fee=None, new_availability=None):\n",
    "        if new_fee is not None:\n",
    "            self.fee = new_fee\n",
    "        if new_availability is not None:\n",
    "            self.available = new_availability\n",
    "\n",
    "    def query(self):\n",
    "        status = \"가능\" if self.available else \"불가능\"\n",
    "        return f\"[{self.name}] 체험비: {self.fee}원 / 현재 상태: {status}\"\n",
    "\n",
    "    def feed(self):\n",
    "        raise NotImplementedError(\"서브 클래스에서 구현해야 합니다.\")\n",
    "\n",
    "class Giraffe(Experience):\n",
    "    def feed(self):\n",
    "        if self.available:\n",
    "            print(\"기린이 먹이를 받아먹어요.\")\n",
    "        else:\n",
    "            print(\"기린 체험은 현재 이용할 수 없습니다.\")\n",
    "\n",
    "class Fish(Experience):\n",
    "    def feed(self):\n",
    "        if self.available:\n",
    "            print(\"물고기들이 먹이를 받아먹어요.\")\n",
    "        else:\n",
    "            print(\"물고기 체험은 현재 이용할 수 없습니다.\")\n",
    "\n",
    "class Zebra(Experience):\n",
    "    def feed(self):\n",
    "        if self.available:\n",
    "            print(\"얼룩말이 먹이를 받아먹어요.\")\n",
    "        else:\n",
    "            print(\"얼룩말 체험은 현재 이용할 수 없습니다.\")\n",
    "\n",
    "\n",
    "class ZooProgram:\n",
    "    def __init__(self):\n",
    "        self.experiences = []\n",
    "\n",
    "    def add_experience(self, experience):\n",
    "        self.experiences.append(experience)\n",
    "\n",
    "    def show_all(self):\n",
    "        for exp in self.experiences:\n",
    "            print(exp.query())\n",
    "\n",
    "    def operate(self):\n",
    "        print(\"\\n[체험 프로그램 운영 시작]\")\n",
    "        for exp in self.experiences:\n",
    "            print(f\"▶ {exp.name} 체험:\")\n",
    "            exp.feed()\n",
    "\n",
    "if __name__ == \"__main__\":\n",
    "\n",
    "    giraffe_exp = Giraffe(\"기린 먹이주기\", fee=3000)\n",
    "    fish_exp = Fish(\"물고기 먹이주기\", fee=1000)\n",
    "    zebra_exp = Zebra(\"얼룩말 먹이주기\", fee=2500, available=False)\n",
    "\n",
    "    zoo_program = ZooProgram()\n",
    "    zoo_program.add_experience(giraffe_exp)\n",
    "    zoo_program.add_experience(fish_exp)\n",
    "    zoo_program.add_experience(zebra_exp)\n",
    "\n",
    "    zoo_program.show_all()\n",
    "    zoo_program.operate()"
   ]
  }
 ],
 "metadata": {
  "kernelspec": {
   "display_name": "my_venv",
   "language": "python",
   "name": "python3"
  },
  "language_info": {
   "codemirror_mode": {
    "name": "ipython",
    "version": 3
   },
   "file_extension": ".py",
   "mimetype": "text/x-python",
   "name": "python",
   "nbconvert_exporter": "python",
   "pygments_lexer": "ipython3",
   "version": "3.9.13"
  }
 },
 "nbformat": 4,
 "nbformat_minor": 5
}
