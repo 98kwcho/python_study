{
 "cells": [
  {
   "cell_type": "code",
   "execution_count": null,
   "id": "ca23569e",
   "metadata": {},
   "outputs": [],
   "source": [
    "num1 =int(input(\"첫번째 정수 입력\"))\n",
    "num2 =int(input(\"두번째 정수 입력\"))\n",
    "\n",
    "if num1 % num2 == 0:\n",
    "    print(\"약수 입니다.\")\n",
    "else:\n",
    "    print(\"약수가 아닙니다.\")"
   ]
  },
  {
   "cell_type": "code",
   "execution_count": null,
   "id": "fe469545",
   "metadata": {},
   "outputs": [],
   "source": [
    "temp = int(input(\"오늘의 온도는?\"))\n",
    "\n",
    "if temp >= 25:\n",
    "    print(\"오늘은 반바지를 추천드립니다.\")\n",
    "else:\n",
    "    print(\"오늘은 긴바지를 추천드립니다.\")"
   ]
  },
  {
   "cell_type": "code",
   "execution_count": null,
   "id": "39bc3332",
   "metadata": {},
   "outputs": [],
   "source": [
    "inputChar = input(\"문자하나 입력\")\n",
    "\n",
    "if inputChar == \"R\" or inputChar == \"r\":\n",
    "    print(\"Rectangle\")\n",
    "\n",
    "elif inputChar == \"T\" or inputChar == \"t\":\n",
    "    print(\"Triangle\")\n",
    "\n",
    "elif inputChar == \"C\" or inputChar == \"c\":\n",
    "    print(\"Circle\")\n",
    "\n",
    "else:\n",
    "    print(\"Unknown\")"
   ]
  },
  {
   "cell_type": "code",
   "execution_count": null,
   "id": "05a0cf9e",
   "metadata": {},
   "outputs": [],
   "source": [
    "r = float(input(\"원의 반지름 입력\"))\n",
    "\n",
    "if r >= 0:\n",
    "    print(\"원의 지름은\", 3.14 *(r ** 2), \"입니다.\")\n",
    "\n",
    "else:\n",
    "    print(\"잘못된 값입니다.\")"
   ]
  },
  {
   "cell_type": "code",
   "execution_count": 13,
   "id": "1102793a",
   "metadata": {},
   "outputs": [
    {
     "name": "stdout",
     "output_type": "stream",
     "text": [
      "가장 작은 수는 1\n"
     ]
    }
   ],
   "source": [
    "inputNum1 = int(input(\"첫 번째 정수 입력\"))\n",
    "inputNum2 = int(input(\"두 번째 정수 입력\"))\n",
    "inputNum3 = int(input(\"세 번째 정수 입력\"))\n",
    "\n",
    "if inputNum1 > inputNum2 :\n",
    "    if inputNum2 > inputNum3:\n",
    "        print(\"가장 작은 수는 %d\" % inputNum3)\n",
    "\n",
    "    else:\n",
    "        print(\"가장 작은 수는 %d\" % inputNum2)\n",
    "\n",
    "else:\n",
    "    if inputNum1 > inputNum3:\n",
    "        print(\"가장 작은 수는 %d\" % inputNum3)\n",
    "\n",
    "    else:\n",
    "        print(\"가장 작은 수는 %d\" % inputNum1)    "
   ]
  },
  {
   "cell_type": "code",
   "execution_count": 5,
   "id": "02b3b283",
   "metadata": {},
   "outputs": [
    {
     "name": "stdout",
     "output_type": "stream",
     "text": [
      "졌음.\n"
     ]
    }
   ],
   "source": [
    "import random\n",
    "gameRule = [\"가위\", \"바위\", \"보\"]\n",
    "\n",
    "inputGame = input(\"가위 바위 보 중 하나 택\")\n",
    "comGame = gameRule[random.randint(0,2)]\n",
    "\n",
    "if inputGame == \"가위\":\n",
    "    if comGame == inputGame:\n",
    "        print(\"비겼음.\")\n",
    "    elif comGame == \"바위\":\n",
    "        print(\"졌음.\")\n",
    "    else:\n",
    "        print(\"이겼음\")\n",
    "\n",
    "elif inputGame == \"바위\":\n",
    "    if comGame == inputGame:\n",
    "        print(\"비겼음.\")\n",
    "    elif comGame == \"가위\":\n",
    "        print(\"졌음.\")\n",
    "    else:\n",
    "        print(\"이겼음\")\n",
    "\n",
    "elif inputGame == \"보\":\n",
    "    if comGame == inputGame:\n",
    "        print(\"비겼음.\")\n",
    "    elif comGame == \"바위\":\n",
    "        print(\"졌음.\")\n",
    "    else:\n",
    "        print(\"이겼음\")\n",
    "\n",
    "else :\n",
    "    print(\"잘못된 입력입니다.\")"
   ]
  },
  {
   "cell_type": "code",
   "execution_count": 9,
   "id": "02228bdf",
   "metadata": {},
   "outputs": [
    {
     "name": "stdout",
     "output_type": "stream",
     "text": [
      "입장 가능\n"
     ]
    }
   ],
   "source": [
    "inputAge = int(input(\"나이를 입력해 주세요.\"))\n",
    "inputHeight = int(input(\"키를 입력해 주세요.\"))\n",
    "\n",
    "if inputAge >= 10 and inputHeight >= 140:\n",
    "    print(\"입장 가능\")\n",
    "\n",
    "else :\n",
    "    print(\"입장 불가능\")\n"
   ]
  },
  {
   "cell_type": "code",
   "execution_count": 10,
   "id": "0f201ac7",
   "metadata": {},
   "outputs": [
    {
     "name": "stdout",
     "output_type": "stream",
     "text": [
      "과체중입니다.\n"
     ]
    }
   ],
   "source": [
    "height = int(input(\"키를 입력해 주세요.\"))\n",
    "weight = int(input(\"몸무게를 입력해 주세요.\"))\n",
    "\n",
    "avr_weight = (height - 100) * 0.9\n",
    "\n",
    "if weight > avr_weight:\n",
    "    print(\"과체중입니다.\")\n",
    "\n",
    "elif weight == avr_weight:\n",
    "    print(\"표준 체중입니다.\")\n",
    "\n",
    "else :\n",
    "    print(\"저체중입니다.\")\n",
    "\n"
   ]
  },
  {
   "cell_type": "code",
   "execution_count": 20,
   "id": "ccac0730",
   "metadata": {},
   "outputs": [
    {
     "name": "stdout",
     "output_type": "stream",
     "text": [
      "40+66 = ?\n",
      "정답\n"
     ]
    }
   ],
   "source": [
    "operator = [\"+\", \"-\", \"*\", \"//\"]\n",
    "choiesOperator = random.randint(0, 3)\n",
    "ranNum1 = random.randint(0, 100)\n",
    "ranNum2 = random.randint(0, 100)\n",
    "\n",
    "print(f\"{ranNum1}{operator[choiesOperator]}{ranNum2} = ?\")\n",
    "\n",
    "inputRes = int(input(\"답\"))\n",
    "\n",
    "if choiesOperator == 0:\n",
    "    if(inputRes == (ranNum1 + ranNum2) ):\n",
    "        print(\"정답\")\n",
    "\n",
    "    else :\n",
    "        print(\"오답\")\n",
    "\n",
    "elif choiesOperator == 1:\n",
    "    if(inputRes == (ranNum1 - ranNum2) ):\n",
    "        print(\"정답\")\n",
    "\n",
    "    else :\n",
    "        print(\"오답\")\n",
    "\n",
    "elif choiesOperator == 2:\n",
    "    if(inputRes == (ranNum1 * ranNum2) ):\n",
    "        print(\"정답\")\n",
    "\n",
    "    else :\n",
    "        print(\"오답\")\n",
    "\n",
    "else :\n",
    "    if(inputRes == (ranNum1 // ranNum2) ):\n",
    "        print(\"정답\")\n",
    "\n",
    "    else :\n",
    "        print(\"오답\")"
   ]
  },
  {
   "cell_type": "code",
   "execution_count": 18,
   "id": "ee1019a5",
   "metadata": {},
   "outputs": [
    {
     "name": "stdout",
     "output_type": "stream",
     "text": [
      "함수 값은 26.5\n"
     ]
    }
   ],
   "source": [
    "inputFloat= float(input(\"실수 입력\"))\n",
    "\n",
    "if inputFloat <= 0:\n",
    "    print(\"함수 값은\", (inputFloat**2) - (9 * inputFloat) + 2)\n",
    "\n",
    "else:\n",
    "    print(\"함수 값은\", 7*inputFloat + 2)"
   ]
  }
 ],
 "metadata": {
  "kernelspec": {
   "display_name": "my_venv",
   "language": "python",
   "name": "python3"
  },
  "language_info": {
   "codemirror_mode": {
    "name": "ipython",
    "version": 3
   },
   "file_extension": ".py",
   "mimetype": "text/x-python",
   "name": "python",
   "nbconvert_exporter": "python",
   "pygments_lexer": "ipython3",
   "version": "3.9.13"
  }
 },
 "nbformat": 4,
 "nbformat_minor": 5
}
