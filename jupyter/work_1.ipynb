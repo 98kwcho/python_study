{
 "cells": [
  {
   "cell_type": "code",
   "execution_count": 8,
   "id": "e334c36d",
   "metadata": {},
   "outputs": [
    {
     "name": "stdout",
     "output_type": "stream",
     "text": [
      "합은 15\n",
      "차는 -1\n",
      "곱은 56\n",
      "평균은 7.5\n",
      "큰 수는 8\n",
      "작은 수는 7 입니다\n"
     ]
    }
   ],
   "source": [
    "num1 =int(input(\"첫 번째 정수를 받습니다.\"))\n",
    "num2 = int(input(\"두 번째 정수를 받습니다.\"))\n",
    "\n",
    "print(\"합은 %d\\n차는 %d\\n곱은 %d\\n평균은 %0.1f\\n큰 수는 %d\\n작은 수는 %d 입니다\" % (num1+num2, num1-num2, num1*num2, (num1+num2)/2, max(num1, num2), min(num1, num2)))"
   ]
  },
  {
   "cell_type": "code",
   "execution_count": 9,
   "id": "417c019a",
   "metadata": {},
   "outputs": [
    {
     "name": "stdout",
     "output_type": "stream",
     "text": [
      "32\n"
     ]
    }
   ],
   "source": [
    "print(2*2 + 4*4 + 3*4)"
   ]
  },
  {
   "cell_type": "code",
   "execution_count": null,
   "id": "57363646",
   "metadata": {},
   "outputs": [],
   "source": [
    "print(2*2 + 4*4 + 3*4)"
   ]
  },
  {
   "cell_type": "code",
   "execution_count": 10,
   "id": "f18d6030",
   "metadata": {},
   "outputs": [
    {
     "name": "stdout",
     "output_type": "stream",
     "text": [
      "3.0\n"
     ]
    }
   ],
   "source": [
    "import math\n",
    "a = 10\n",
    "b= 10\n",
    "c = 10\n",
    "d = 13\n",
    "\n",
    "print(math.sqrt(((a - c)** 2) + ((b - d) **2)))"
   ]
  }
 ],
 "metadata": {
  "kernelspec": {
   "display_name": "my_venv",
   "language": "python",
   "name": "python3"
  },
  "language_info": {
   "codemirror_mode": {
    "name": "ipython",
    "version": 3
   },
   "file_extension": ".py",
   "mimetype": "text/x-python",
   "name": "python",
   "nbconvert_exporter": "python",
   "pygments_lexer": "ipython3",
   "version": "3.9.13"
  }
 },
 "nbformat": 4,
 "nbformat_minor": 5
}
