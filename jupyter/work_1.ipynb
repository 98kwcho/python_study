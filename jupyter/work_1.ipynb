{
 "cells": [
  {
   "cell_type": "code",
   "execution_count": null,
   "id": "e334c36d",
   "metadata": {},
   "outputs": [
    {
     "name": "stdout",
     "output_type": "stream",
     "text": [
      "합은 10, 차는 0, 곱은 25, 평균은 5.000000, 큰 수는 5, 작은 수는 5 입니다\n"
     ]
    }
   ],
   "source": [
    "num1 =int(input(\"첫 번째 정수를 받습니다.\"))\n",
    "num2 = int(input(\"두 번째 정수를 받습니다.\"))\n",
    "\n",
    "print(\"합은 %d, 차는 %d, 곱은 %d, 평균은 %f, 큰 수는 %d, 작은 수는 %d 입니다\" % (num1+num2, num1-num2, num1*num2, (num1+num2)/2, max(num1, num2), min(num1, num2)))"
   ]
  }
 ],
 "metadata": {
  "kernelspec": {
   "display_name": "my_venv",
   "language": "python",
   "name": "python3"
  },
  "language_info": {
   "codemirror_mode": {
    "name": "ipython",
    "version": 3
   },
   "file_extension": ".py",
   "mimetype": "text/x-python",
   "name": "python",
   "nbconvert_exporter": "python",
   "pygments_lexer": "ipython3",
   "version": "3.9.13"
  }
 },
 "nbformat": 4,
 "nbformat_minor": 5
}
