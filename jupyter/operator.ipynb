{
 "cells": [
  {
   "cell_type": "code",
   "execution_count": 3,
   "id": "4d7491eb",
   "metadata": {},
   "outputs": [
    {
     "data": {
      "text/plain": [
       "1"
      ]
     },
     "execution_count": 3,
     "metadata": {},
     "output_type": "execute_result"
    }
   ],
   "source": [
    "3**3\n",
    "\n",
    "4**4\n",
    "\n",
    "9% 2\n"
   ]
  },
  {
   "cell_type": "code",
   "execution_count": 4,
   "id": "621e72c5",
   "metadata": {},
   "outputs": [
    {
     "data": {
      "text/plain": [
       "7"
      ]
     },
     "execution_count": 4,
     "metadata": {},
     "output_type": "execute_result"
    }
   ],
   "source": [
    "# 연산자 우선순위 지수(**) > 곱셈 나눗셈 나머지 > 덧셈 뺄셈\n",
    "\n",
    "1+ 2* 3"
   ]
  },
  {
   "cell_type": "code",
   "execution_count": 5,
   "id": "8210add7",
   "metadata": {},
   "outputs": [
    {
     "data": {
      "text/plain": [
       "2"
      ]
     },
     "execution_count": 5,
     "metadata": {},
     "output_type": "execute_result"
    }
   ],
   "source": [
    "round(1.4)\n",
    "\n",
    "round(1.5)"
   ]
  },
  {
   "cell_type": "code",
   "execution_count": null,
   "id": "430e00c2",
   "metadata": {},
   "outputs": [],
   "source": [
    "max(10, 50)\n",
    "\n",
    "min(10, 50)"
   ]
  },
  {
   "cell_type": "code",
   "execution_count": 7,
   "id": "f0d3f8ac",
   "metadata": {},
   "outputs": [
    {
     "name": "stdout",
     "output_type": "stream",
     "text": [
      "만나서 반갑습니다. 123씨\n",
      "당신은 3세이시군요. 123씨\n"
     ]
    }
   ],
   "source": [
    "name = input(\"이름이 무엇인가요?\")\n",
    "print(\"만나서 반갑습니다. \" + name + \"씨\")\n",
    "age = input(\"나이는요?\")\n",
    "print(\"당신은 \" + age + \"세이시군요. \" + name +\"씨\")"
   ]
  },
  {
   "cell_type": "code",
   "execution_count": 9,
   "id": "ab379a1c",
   "metadata": {},
   "outputs": [
    {
     "name": "stdout",
     "output_type": "stream",
     "text": [
      "합은  12\n"
     ]
    }
   ],
   "source": [
    "x = int(input(\"첫 번째 정수 : \"))\n",
    "y = int(input(\"두 번째 정수 : \"))\n",
    "\n",
    "sum = x+y\n",
    "print(\"합은 \", sum)"
   ]
  },
  {
   "cell_type": "code",
   "execution_count": null,
   "id": "4f450fc0",
   "metadata": {},
   "outputs": [],
   "source": [
    "x = 10\n",
    "x = \"hello\"\n",
    "\n",
    "print(x)"
   ]
  },
  {
   "cell_type": "code",
   "execution_count": null,
   "id": "0f6f1788",
   "metadata": {},
   "outputs": [
    {
     "name": "stdout",
     "output_type": "stream",
     "text": [
      "나는 4학년이다.\n",
      "False\n"
     ]
    },
    {
     "data": {
      "text/plain": [
       "True"
      ]
     },
     "execution_count": 12,
     "metadata": {},
     "output_type": "execute_result"
    }
   ],
   "source": [
    "print(\"나는 \" + str(4) + \"학년이다.\")\n",
    "\n",
    "print(10 == \"10\")\n",
    "10 == 10.0"
   ]
  },
  {
   "cell_type": "code",
   "execution_count": 15,
   "id": "34d90d52",
   "metadata": {},
   "outputs": [
    {
     "name": "stdout",
     "output_type": "stream",
     "text": [
      "Hello\n",
      "\"Hello\"\n",
      "\\\" \n",
      " \t이렇습니다.\n"
     ]
    }
   ],
   "source": [
    "greeting = \"Hello\"\n",
    "print(greeting)\n",
    "greeting = \"\\\"Hello\\\"\"\n",
    "print(greeting)\n",
    "\n",
    "print(\"\\\\\\\" \\n \\t이렇습니다.\")"
   ]
  },
  {
   "cell_type": "code",
   "execution_count": 17,
   "id": "e748151c",
   "metadata": {},
   "outputs": [
    {
     "name": "stdout",
     "output_type": "stream",
     "text": [
      "상품의 가격은 1000 원입니다.\n"
     ]
    }
   ],
   "source": [
    "price = 1000\n",
    "print(\"상품의 가격은 %s 원입니다.\"  % price)\n"
   ]
  },
  {
   "cell_type": "code",
   "execution_count": 24,
   "id": "76c2ab30",
   "metadata": {},
   "outputs": [
    {
     "name": "stdout",
     "output_type": "stream",
     "text": [
      "현재 시간은 15.000000시 30분 입니다.\n"
     ]
    }
   ],
   "source": [
    "message = \"현재 시간은 %f시 %d분 입니다.\"\n",
    "hours = 15.0\n",
    "minutes = 30\n",
    "print(message % (hours, minutes))"
   ]
  },
  {
   "cell_type": "code",
   "execution_count": 25,
   "id": "0d58a0d1",
   "metadata": {},
   "outputs": [
    {
     "name": "stdout",
     "output_type": "stream",
     "text": [
      "오늘은 7월 3일입니다.\n",
      "현재 시간은 15.000000시 30분 입니다.\n"
     ]
    }
   ],
   "source": [
    "message = \"오늘은 %d월 %d일입니다.\\n현재 시간은 %f시 %d분 입니다.\"\n",
    "month = int(input(\"오늘은 몇 월입니까?\"))\n",
    "day = int(input(\"오늘은 며칠입니까?\"))\n",
    "print(message % (month, day, hours, minutes))"
   ]
  }
 ],
 "metadata": {
  "kernelspec": {
   "display_name": "my_venv",
   "language": "python",
   "name": "python3"
  },
  "language_info": {
   "codemirror_mode": {
    "name": "ipython",
    "version": 3
   },
   "file_extension": ".py",
   "mimetype": "text/x-python",
   "name": "python",
   "nbconvert_exporter": "python",
   "pygments_lexer": "ipython3",
   "version": "3.9.13"
  }
 },
 "nbformat": 4,
 "nbformat_minor": 5
}
